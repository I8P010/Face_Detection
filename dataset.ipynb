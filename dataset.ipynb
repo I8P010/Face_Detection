{
 "cells": [
  {
   "cell_type": "code",
   "execution_count": 20,
   "metadata": {},
   "outputs": [],
   "source": [
    "from torchvision.datasets import WIDERFace\n",
    "import torch\n",
    "from matplotlib import pyplot as plt\n",
    "import os\n",
    "from PIL import Image"
   ]
  },
  {
   "cell_type": "markdown",
   "metadata": {},
   "source": [
    "### WIDERFace"
   ]
  },
  {
   "cell_type": "code",
   "execution_count": 10,
   "metadata": {},
   "outputs": [
    {
     "name": "stderr",
     "output_type": "stream",
     "text": [
      "<>:1: SyntaxWarning: invalid escape sequence '\\d'\n",
      "<>:1: SyntaxWarning: invalid escape sequence '\\d'\n",
      "C:\\Users\\acer\\AppData\\Local\\Temp\\ipykernel_1456\\3861229918.py:1: SyntaxWarning: invalid escape sequence '\\d'\n",
      "  data = WIDERFace(root='.\\datasets\\WIDERFace', download = True)\n"
     ]
    }
   ],
   "source": [
    "data = WIDERFace(root='.\\datasets\\WIDERFace', download = True)"
   ]
  },
  {
   "cell_type": "code",
   "execution_count": null,
   "metadata": {},
   "outputs": [],
   "source": [
    "for (img, params) in data:\n",
    "    if params['expression'][0] == 1:\n",
    "        img.show()\n",
    "        break"
   ]
  },
  {
   "cell_type": "code",
   "execution_count": null,
   "metadata": {},
   "outputs": [],
   "source": [
    "lines = []\n",
    "with open(r'.\\datasets\\WIDERFace\\wider_face_split\\train_ys.txt', 'r+') as old_file:\n",
    "    lines = old_file.readlines()\n",
    "    for i in range(len(lines)):\n",
    "        line = lines[i]\n",
    "        if line[-5:] == '.jpg\\n':\n",
    "            path_parts = line.split('/')\n",
    "            path_parts.insert(0, r'.\\datasets\\WIDERFace\\train')\n",
    "            line = '\\\\'.join(path_parts)\n",
    "            lines[i] = line\n",
    "    \n",
    "with open(r'.\\new_train_ys.txt', 'w') as new_file:\n",
    "    new_file.writelines(lines)\n"
   ]
  },
  {
   "cell_type": "code",
   "execution_count": 14,
   "metadata": {},
   "outputs": [],
   "source": [
    "split_list = []\n",
    "with open(r'.\\datasets\\WIDERFace\\wider_face_split\\train_ys.txt', 'r+') as file:\n",
    "    lines = file.readlines()\n",
    "    chunk_start = 0\n",
    "    for i, line in enumerate(lines):\n",
    "        if line[-5:] == '.jpg\\n':\n",
    "            split_list.append(lines[chunk_start:i])\n",
    "            chunk_start = i\n",
    "split_list = split_list[1:]         \n",
    "\n",
    "chunks = []\n",
    "for chunk in split_list:\n",
    "    path = chunk[0][:-1]\n",
    "    bboxes = []\n",
    "    correct_bboxes = []\n",
    "\n",
    "    for bbox_line in chunk[2:]:\n",
    "        bboxes.append([int(x) for x in bbox_line[:-2].split(' ')])\n",
    "\n",
    "    for i in range(len(bboxes)):\n",
    "        if bboxes[i][4] == 0 \\\n",
    "        and bboxes[i][6] != 1 \\\n",
    "        and bboxes[i][7] != 1 \\\n",
    "        and bboxes[i][8] == 0:\n",
    "            correct_bboxes.append(bboxes[i])\n",
    "\n",
    "    if len(correct_bboxes) == 0:\n",
    "        if os.path.exists(path):\n",
    "            os.remove(path)\n",
    "    else:\n",
    "        chunks.append((path, len(correct_bboxes), [bbox[:4] for bbox in correct_bboxes]))"
   ]
  },
  {
   "cell_type": "code",
   "execution_count": 21,
   "metadata": {},
   "outputs": [
    {
     "name": "stdout",
     "output_type": "stream",
     "text": [
      "h: 9108 w: 1024\n"
     ]
    }
   ],
   "source": [
    "max_w = 0\n",
    "max_h = 0\n",
    "\n",
    "for (path, _, _) in chunks:\n",
    "    img = Image.open(path)\n",
    "    w, h = img.size\n",
    "    max_w = w if w > max_w else max_w\n",
    "    max_h = h if h > max_h else max_h\n",
    "\n",
    "print(f'h: {max_h} w: {max_w}')"
   ]
  },
  {
   "cell_type": "code",
   "execution_count": 18,
   "metadata": {},
   "outputs": [
    {
     "name": "stdout",
     "output_type": "stream",
     "text": [
      "('.\\\\datasets\\\\WIDERFace\\\\train\\\\0--Parade\\\\0_Parade_marchingband_1_849.jpg', 1, [[449, 330, 122, 149]])\n"
     ]
    }
   ],
   "source": [
    "print(chunks[0])"
   ]
  }
 ],
 "metadata": {
  "kernelspec": {
   "display_name": "Python 3 (ipykernel)",
   "language": "python",
   "name": "python3"
  }
 },
 "nbformat": 4,
 "nbformat_minor": 2
}
